{
 "cells": [
  {
   "cell_type": "code",
   "execution_count": 106,
   "metadata": {},
   "outputs": [
    {
     "name": "stdout",
     "output_type": "stream",
     "text": [
      "['Unnamed: 0' 'Date' 'Day' 'High Temp (°F)' 'Low Temp (°F)'\n",
      " 'Precipitation' 'Brooklyn Bridge' 'Manhattan Bridge'\n",
      " 'Williamsburg Bridge' 'Queensboro Bridge' 'Total']\n"
     ]
    }
   ],
   "source": [
    "import matplotlib.pyplot as plt\n",
    "import numpy as np\n",
    "import pandas as pd\n",
    "import seaborn as sns\n",
    "from sklearn.ensemble import RandomForestRegressor\n",
    "from sklearn.model_selection import train_test_split\n",
    "from sklearn import svm\n",
    "from datetime import datetime\n",
    "df = pd.read_csv('https://raw.githubusercontent.com/erood/interviewqs.com_code_snippets/master/Datasets/nyc_east_river_bicycle_counts.csv')\n",
    "\n",
    "print(df.columns.values)"
   ]
  },
  {
   "cell_type": "code",
   "execution_count": 91,
   "metadata": {},
   "outputs": [
    {
     "data": {
      "text/html": [
       "<div>\n",
       "<style scoped>\n",
       "    .dataframe tbody tr th:only-of-type {\n",
       "        vertical-align: middle;\n",
       "    }\n",
       "\n",
       "    .dataframe tbody tr th {\n",
       "        vertical-align: top;\n",
       "    }\n",
       "\n",
       "    .dataframe thead th {\n",
       "        text-align: right;\n",
       "    }\n",
       "</style>\n",
       "<table border=\"1\" class=\"dataframe\">\n",
       "  <thead>\n",
       "    <tr style=\"text-align: right;\">\n",
       "      <th></th>\n",
       "      <th>Unnamed: 0</th>\n",
       "      <th>Date</th>\n",
       "      <th>Day</th>\n",
       "      <th>High Temp (°F)</th>\n",
       "      <th>Low Temp (°F)</th>\n",
       "      <th>Precipitation</th>\n",
       "      <th>Brooklyn Bridge</th>\n",
       "      <th>Manhattan Bridge</th>\n",
       "      <th>Williamsburg Bridge</th>\n",
       "      <th>Queensboro Bridge</th>\n",
       "      <th>Total</th>\n",
       "    </tr>\n",
       "  </thead>\n",
       "  <tbody>\n",
       "    <tr>\n",
       "      <th>0</th>\n",
       "      <td>0</td>\n",
       "      <td>2016-04-01 00:00:00</td>\n",
       "      <td>2016-04-01 00:00:00</td>\n",
       "      <td>78.1</td>\n",
       "      <td>66.0</td>\n",
       "      <td>0.01</td>\n",
       "      <td>1704.0</td>\n",
       "      <td>3126</td>\n",
       "      <td>4115.0</td>\n",
       "      <td>2552.0</td>\n",
       "      <td>11497</td>\n",
       "    </tr>\n",
       "    <tr>\n",
       "      <th>1</th>\n",
       "      <td>1</td>\n",
       "      <td>2016-04-02 00:00:00</td>\n",
       "      <td>2016-04-02 00:00:00</td>\n",
       "      <td>55.0</td>\n",
       "      <td>48.9</td>\n",
       "      <td>0.15</td>\n",
       "      <td>827.0</td>\n",
       "      <td>1646</td>\n",
       "      <td>2565.0</td>\n",
       "      <td>1884.0</td>\n",
       "      <td>6922</td>\n",
       "    </tr>\n",
       "    <tr>\n",
       "      <th>2</th>\n",
       "      <td>2</td>\n",
       "      <td>2016-04-03 00:00:00</td>\n",
       "      <td>2016-04-03 00:00:00</td>\n",
       "      <td>39.9</td>\n",
       "      <td>34.0</td>\n",
       "      <td>0.09</td>\n",
       "      <td>526.0</td>\n",
       "      <td>1232</td>\n",
       "      <td>1695.0</td>\n",
       "      <td>1306.0</td>\n",
       "      <td>4759</td>\n",
       "    </tr>\n",
       "    <tr>\n",
       "      <th>3</th>\n",
       "      <td>3</td>\n",
       "      <td>2016-04-04 00:00:00</td>\n",
       "      <td>2016-04-04 00:00:00</td>\n",
       "      <td>44.1</td>\n",
       "      <td>33.1</td>\n",
       "      <td>0.47</td>\n",
       "      <td>521.0</td>\n",
       "      <td>1067</td>\n",
       "      <td>1440.0</td>\n",
       "      <td>1307.0</td>\n",
       "      <td>4335</td>\n",
       "    </tr>\n",
       "    <tr>\n",
       "      <th>4</th>\n",
       "      <td>4</td>\n",
       "      <td>2016-04-05 00:00:00</td>\n",
       "      <td>2016-04-05 00:00:00</td>\n",
       "      <td>42.1</td>\n",
       "      <td>26.1</td>\n",
       "      <td>0</td>\n",
       "      <td>1416.0</td>\n",
       "      <td>2617</td>\n",
       "      <td>3081.0</td>\n",
       "      <td>2357.0</td>\n",
       "      <td>9471</td>\n",
       "    </tr>\n",
       "  </tbody>\n",
       "</table>\n",
       "</div>"
      ],
      "text/plain": [
       "   Unnamed: 0                 Date                  Day  High Temp (°F)  \\\n",
       "0           0  2016-04-01 00:00:00  2016-04-01 00:00:00            78.1   \n",
       "1           1  2016-04-02 00:00:00  2016-04-02 00:00:00            55.0   \n",
       "2           2  2016-04-03 00:00:00  2016-04-03 00:00:00            39.9   \n",
       "3           3  2016-04-04 00:00:00  2016-04-04 00:00:00            44.1   \n",
       "4           4  2016-04-05 00:00:00  2016-04-05 00:00:00            42.1   \n",
       "\n",
       "   Low Temp (°F) Precipitation  Brooklyn Bridge  Manhattan Bridge  \\\n",
       "0           66.0          0.01           1704.0              3126   \n",
       "1           48.9          0.15            827.0              1646   \n",
       "2           34.0          0.09            526.0              1232   \n",
       "3           33.1          0.47            521.0              1067   \n",
       "4           26.1             0           1416.0              2617   \n",
       "\n",
       "   Williamsburg Bridge  Queensboro Bridge  Total  \n",
       "0               4115.0             2552.0  11497  \n",
       "1               2565.0             1884.0   6922  \n",
       "2               1695.0             1306.0   4759  \n",
       "3               1440.0             1307.0   4335  \n",
       "4               3081.0             2357.0   9471  "
      ]
     },
     "execution_count": 91,
     "metadata": {},
     "output_type": "execute_result"
    }
   ],
   "source": [
    "df.head()"
   ]
  },
  {
   "cell_type": "code",
   "execution_count": 92,
   "metadata": {},
   "outputs": [
    {
     "data": {
      "text/plain": [
       "210"
      ]
     },
     "execution_count": 92,
     "metadata": {},
     "output_type": "execute_result"
    }
   ],
   "source": [
    "len(df)"
   ]
  },
  {
   "cell_type": "code",
   "execution_count": 93,
   "metadata": {},
   "outputs": [],
   "source": [
    "df = df.drop(df[df['Precipitation']=='T'].index)"
   ]
  },
  {
   "cell_type": "code",
   "execution_count": 14,
   "metadata": {},
   "outputs": [],
   "source": [
    "d2 = df.loc[(df['High Temp (°F)'] > 50)]\n",
    "d2 = d2.loc[(d2['Brooklyn Bridge'] < 1000)]"
   ]
  },
  {
   "cell_type": "code",
   "execution_count": 94,
   "metadata": {},
   "outputs": [],
   "source": [
    "x = df.drop(['Brooklyn Bridge', 'Manhattan Bridge', 'Williamsburg Bridge', 'Queensboro Bridge', 'Total','Date','Day', 'Unnamed: 0'], axis=1)\n",
    "y = df['Brooklyn Bridge']"
   ]
  },
  {
   "cell_type": "code",
   "execution_count": 96,
   "metadata": {},
   "outputs": [],
   "source": [
    "X_train, X_test, y_train, y_test = train_test_split(x, y, test_size=0.3, random_state=0)"
   ]
  },
  {
   "cell_type": "code",
   "execution_count": 76,
   "metadata": {},
   "outputs": [
    {
     "data": {
      "text/html": [
       "<div>\n",
       "<style scoped>\n",
       "    .dataframe tbody tr th:only-of-type {\n",
       "        vertical-align: middle;\n",
       "    }\n",
       "\n",
       "    .dataframe tbody tr th {\n",
       "        vertical-align: top;\n",
       "    }\n",
       "\n",
       "    .dataframe thead th {\n",
       "        text-align: right;\n",
       "    }\n",
       "</style>\n",
       "<table border=\"1\" class=\"dataframe\">\n",
       "  <thead>\n",
       "    <tr style=\"text-align: right;\">\n",
       "      <th></th>\n",
       "      <th>High Temp (°F)</th>\n",
       "      <th>Low Temp (°F)</th>\n",
       "      <th>Precipitation</th>\n",
       "    </tr>\n",
       "  </thead>\n",
       "  <tbody>\n",
       "    <tr>\n",
       "      <th>0</th>\n",
       "      <td>78.1</td>\n",
       "      <td>66.0</td>\n",
       "      <td>0.01</td>\n",
       "    </tr>\n",
       "    <tr>\n",
       "      <th>1</th>\n",
       "      <td>55.0</td>\n",
       "      <td>48.9</td>\n",
       "      <td>0.15</td>\n",
       "    </tr>\n",
       "    <tr>\n",
       "      <th>2</th>\n",
       "      <td>39.9</td>\n",
       "      <td>34.0</td>\n",
       "      <td>0.09</td>\n",
       "    </tr>\n",
       "    <tr>\n",
       "      <th>3</th>\n",
       "      <td>44.1</td>\n",
       "      <td>33.1</td>\n",
       "      <td>0.47</td>\n",
       "    </tr>\n",
       "    <tr>\n",
       "      <th>4</th>\n",
       "      <td>42.1</td>\n",
       "      <td>26.1</td>\n",
       "      <td>0</td>\n",
       "    </tr>\n",
       "  </tbody>\n",
       "</table>\n",
       "</div>"
      ],
      "text/plain": [
       "   High Temp (°F)  Low Temp (°F) Precipitation\n",
       "0            78.1           66.0          0.01\n",
       "1            55.0           48.9          0.15\n",
       "2            39.9           34.0          0.09\n",
       "3            44.1           33.1          0.47\n",
       "4            42.1           26.1             0"
      ]
     },
     "execution_count": 76,
     "metadata": {},
     "output_type": "execute_result"
    }
   ],
   "source": [
    "x.head()"
   ]
  },
  {
   "cell_type": "code",
   "execution_count": 77,
   "metadata": {},
   "outputs": [],
   "source": [
    "days = []\n",
    "for date in df['Day']:\n",
    "    days.append(datetime.strptime(date, '%Y-%m-%d %H:%M:%S').weekday())\n",
    "x['weekday'] = days"
   ]
  },
  {
   "cell_type": "code",
   "execution_count": 110,
   "metadata": {},
   "outputs": [
    {
     "data": {
      "text/plain": [
       "RandomForestRegressor(bootstrap=True, ccp_alpha=0.0, criterion='mse',\n",
       "                      max_depth=None, max_features='auto', max_leaf_nodes=None,\n",
       "                      max_samples=None, min_impurity_decrease=0.0,\n",
       "                      min_impurity_split=None, min_samples_leaf=1,\n",
       "                      min_samples_split=2, min_weight_fraction_leaf=0.0,\n",
       "                      n_estimators=100, n_jobs=None, oob_score=False,\n",
       "                      random_state=None, verbose=0, warm_start=False)"
      ]
     },
     "execution_count": 110,
     "metadata": {},
     "output_type": "execute_result"
    }
   ],
   "source": [
    "rf_model = RandomForestRegressor()\n",
    "rf_model.fit(X_train,y_train)"
   ]
  },
  {
   "cell_type": "code",
   "execution_count": 99,
   "metadata": {},
   "outputs": [
    {
     "data": {
      "text/plain": [
       "SVR(C=1.0, cache_size=200, coef0=0.0, degree=3, epsilon=0.1, gamma='scale',\n",
       "    kernel='rbf', max_iter=-1, shrinking=True, tol=0.001, verbose=False)"
      ]
     },
     "execution_count": 99,
     "metadata": {},
     "output_type": "execute_result"
    }
   ],
   "source": [
    "sv = svm.SVR()\n",
    "sv.fit(X_train,y_train)"
   ]
  },
  {
   "cell_type": "code",
   "execution_count": 111,
   "metadata": {},
   "outputs": [],
   "source": [
    "y_pred = rf_model.predict(X_test)"
   ]
  },
  {
   "cell_type": "code",
   "execution_count": 112,
   "metadata": {},
   "outputs": [
    {
     "data": {
      "text/plain": [
       "array([3499.7 , 3133.04, 1416.  ,  507.42, 2810.03,  535.47, 1875.93,\n",
       "        507.42, 2840.  ,  507.42,  535.47, 2840.  , 2055.  , 2384.  ,\n",
       "       2004.77, 1982.  , 2854.41, 2384.  , 3862.3 ,  507.42, 2384.  ,\n",
       "        827.  , 1875.93, 3449.86, 3182.96, 3343.  , 2854.41, 1982.  ,\n",
       "       3133.04, 1447.  , 3182.96,  525.95, 3133.04, 3133.04, 2810.03,\n",
       "       2810.03, 2854.41, 2004.77, 1416.  , 3862.3 , 1447.  , 1704.  ,\n",
       "       2486.  , 2486.  , 2770.  ,  535.47, 3463.  ,  507.42,  525.95,\n",
       "       1997.  , 3499.7 , 1875.93, 2810.03, 3182.96, 2055.  , 3862.3 ,\n",
       "       1997.  ,  827.  ,  525.95, 1045.  , 2375.  ])"
      ]
     },
     "execution_count": 112,
     "metadata": {},
     "output_type": "execute_result"
    }
   ],
   "source": [
    "y_pred"
   ]
  },
  {
   "cell_type": "code",
   "execution_count": 105,
   "metadata": {},
   "outputs": [
    {
     "data": {
      "text/plain": [
       "18     3501.0\n",
       "46     3147.0\n",
       "34     1416.0\n",
       "38      504.0\n",
       "113    2798.0\n",
       "        ...  \n",
       "25     1997.0\n",
       "31      827.0\n",
       "122     526.0\n",
       "41     1045.0\n",
       "58     2375.0\n",
       "Name: Brooklyn Bridge, Length: 61, dtype: float64"
      ]
     },
     "execution_count": 105,
     "metadata": {},
     "output_type": "execute_result"
    }
   ],
   "source": [
    "y_test"
   ]
  },
  {
   "cell_type": "code",
   "execution_count": 83,
   "metadata": {},
   "outputs": [
    {
     "data": {
      "text/plain": [
       "dtype('O')"
      ]
     },
     "execution_count": 83,
     "metadata": {},
     "output_type": "execute_result"
    }
   ],
   "source": [
    "x.dtypes"
   ]
  },
  {
   "cell_type": "code",
   "execution_count": 81,
   "metadata": {},
   "outputs": [],
   "source": [
    "x = x.astype({'Precipitation' : 'float64'}).dtypes"
   ]
  },
  {
   "cell_type": "code",
   "execution_count": 71,
   "metadata": {},
   "outputs": [],
   "source": []
  },
  {
   "cell_type": "code",
   "execution_count": 72,
   "metadata": {},
   "outputs": [
    {
     "data": {
      "text/html": [
       "<div>\n",
       "<style scoped>\n",
       "    .dataframe tbody tr th:only-of-type {\n",
       "        vertical-align: middle;\n",
       "    }\n",
       "\n",
       "    .dataframe tbody tr th {\n",
       "        vertical-align: top;\n",
       "    }\n",
       "\n",
       "    .dataframe thead th {\n",
       "        text-align: right;\n",
       "    }\n",
       "</style>\n",
       "<table border=\"1\" class=\"dataframe\">\n",
       "  <thead>\n",
       "    <tr style=\"text-align: right;\">\n",
       "      <th></th>\n",
       "      <th>Unnamed: 0</th>\n",
       "      <th>Date</th>\n",
       "      <th>Day</th>\n",
       "      <th>High Temp (°F)</th>\n",
       "      <th>Low Temp (°F)</th>\n",
       "      <th>Precipitation</th>\n",
       "      <th>Brooklyn Bridge</th>\n",
       "      <th>Manhattan Bridge</th>\n",
       "      <th>Williamsburg Bridge</th>\n",
       "      <th>Queensboro Bridge</th>\n",
       "      <th>Total</th>\n",
       "    </tr>\n",
       "  </thead>\n",
       "  <tbody>\n",
       "    <tr>\n",
       "      <th>0</th>\n",
       "      <td>0</td>\n",
       "      <td>2016-04-01 00:00:00</td>\n",
       "      <td>2016-04-01 00:00:00</td>\n",
       "      <td>78.1</td>\n",
       "      <td>66.0</td>\n",
       "      <td>0.01</td>\n",
       "      <td>1704.0</td>\n",
       "      <td>3126</td>\n",
       "      <td>4115.0</td>\n",
       "      <td>2552.0</td>\n",
       "      <td>11497</td>\n",
       "    </tr>\n",
       "    <tr>\n",
       "      <th>1</th>\n",
       "      <td>1</td>\n",
       "      <td>2016-04-02 00:00:00</td>\n",
       "      <td>2016-04-02 00:00:00</td>\n",
       "      <td>55.0</td>\n",
       "      <td>48.9</td>\n",
       "      <td>0.15</td>\n",
       "      <td>827.0</td>\n",
       "      <td>1646</td>\n",
       "      <td>2565.0</td>\n",
       "      <td>1884.0</td>\n",
       "      <td>6922</td>\n",
       "    </tr>\n",
       "    <tr>\n",
       "      <th>2</th>\n",
       "      <td>2</td>\n",
       "      <td>2016-04-03 00:00:00</td>\n",
       "      <td>2016-04-03 00:00:00</td>\n",
       "      <td>39.9</td>\n",
       "      <td>34.0</td>\n",
       "      <td>0.09</td>\n",
       "      <td>526.0</td>\n",
       "      <td>1232</td>\n",
       "      <td>1695.0</td>\n",
       "      <td>1306.0</td>\n",
       "      <td>4759</td>\n",
       "    </tr>\n",
       "    <tr>\n",
       "      <th>3</th>\n",
       "      <td>3</td>\n",
       "      <td>2016-04-04 00:00:00</td>\n",
       "      <td>2016-04-04 00:00:00</td>\n",
       "      <td>44.1</td>\n",
       "      <td>33.1</td>\n",
       "      <td>0.47</td>\n",
       "      <td>521.0</td>\n",
       "      <td>1067</td>\n",
       "      <td>1440.0</td>\n",
       "      <td>1307.0</td>\n",
       "      <td>4335</td>\n",
       "    </tr>\n",
       "    <tr>\n",
       "      <th>4</th>\n",
       "      <td>4</td>\n",
       "      <td>2016-04-05 00:00:00</td>\n",
       "      <td>2016-04-05 00:00:00</td>\n",
       "      <td>42.1</td>\n",
       "      <td>26.1</td>\n",
       "      <td>0</td>\n",
       "      <td>1416.0</td>\n",
       "      <td>2617</td>\n",
       "      <td>3081.0</td>\n",
       "      <td>2357.0</td>\n",
       "      <td>9471</td>\n",
       "    </tr>\n",
       "    <tr>\n",
       "      <th>...</th>\n",
       "      <td>...</td>\n",
       "      <td>...</td>\n",
       "      <td>...</td>\n",
       "      <td>...</td>\n",
       "      <td>...</td>\n",
       "      <td>...</td>\n",
       "      <td>...</td>\n",
       "      <td>...</td>\n",
       "      <td>...</td>\n",
       "      <td>...</td>\n",
       "      <td>...</td>\n",
       "    </tr>\n",
       "    <tr>\n",
       "      <th>205</th>\n",
       "      <td>205</td>\n",
       "      <td>2016-04-26 00:00:00</td>\n",
       "      <td>2016-04-26 00:00:00</td>\n",
       "      <td>60.1</td>\n",
       "      <td>46.9</td>\n",
       "      <td>0.24</td>\n",
       "      <td>1997.0</td>\n",
       "      <td>3520</td>\n",
       "      <td>4559.0</td>\n",
       "      <td>2929.0</td>\n",
       "      <td>13005</td>\n",
       "    </tr>\n",
       "    <tr>\n",
       "      <th>206</th>\n",
       "      <td>206</td>\n",
       "      <td>2016-04-27 00:00:00</td>\n",
       "      <td>2016-04-27 00:00:00</td>\n",
       "      <td>62.1</td>\n",
       "      <td>46.9</td>\n",
       "      <td>0</td>\n",
       "      <td>3343.0</td>\n",
       "      <td>5606</td>\n",
       "      <td>6577.0</td>\n",
       "      <td>4388.0</td>\n",
       "      <td>19914</td>\n",
       "    </tr>\n",
       "    <tr>\n",
       "      <th>207</th>\n",
       "      <td>207</td>\n",
       "      <td>2016-04-28 00:00:00</td>\n",
       "      <td>2016-04-28 00:00:00</td>\n",
       "      <td>57.9</td>\n",
       "      <td>48.0</td>\n",
       "      <td>0</td>\n",
       "      <td>2486.0</td>\n",
       "      <td>4152</td>\n",
       "      <td>5336.0</td>\n",
       "      <td>3657.0</td>\n",
       "      <td>15631</td>\n",
       "    </tr>\n",
       "    <tr>\n",
       "      <th>208</th>\n",
       "      <td>208</td>\n",
       "      <td>2016-04-29 00:00:00</td>\n",
       "      <td>2016-04-29 00:00:00</td>\n",
       "      <td>57.0</td>\n",
       "      <td>46.9</td>\n",
       "      <td>0.05</td>\n",
       "      <td>2375.0</td>\n",
       "      <td>4178</td>\n",
       "      <td>5053.0</td>\n",
       "      <td>3348.0</td>\n",
       "      <td>14954</td>\n",
       "    </tr>\n",
       "    <tr>\n",
       "      <th>209</th>\n",
       "      <td>209</td>\n",
       "      <td>2016-04-30 00:00:00</td>\n",
       "      <td>2016-04-30 00:00:00</td>\n",
       "      <td>64.0</td>\n",
       "      <td>48.0</td>\n",
       "      <td>0</td>\n",
       "      <td>3199.0</td>\n",
       "      <td>4952</td>\n",
       "      <td>5675.0</td>\n",
       "      <td>3606.0</td>\n",
       "      <td>17432</td>\n",
       "    </tr>\n",
       "  </tbody>\n",
       "</table>\n",
       "<p>203 rows × 11 columns</p>\n",
       "</div>"
      ],
      "text/plain": [
       "     Unnamed: 0                 Date                  Day  High Temp (°F)  \\\n",
       "0             0  2016-04-01 00:00:00  2016-04-01 00:00:00            78.1   \n",
       "1             1  2016-04-02 00:00:00  2016-04-02 00:00:00            55.0   \n",
       "2             2  2016-04-03 00:00:00  2016-04-03 00:00:00            39.9   \n",
       "3             3  2016-04-04 00:00:00  2016-04-04 00:00:00            44.1   \n",
       "4             4  2016-04-05 00:00:00  2016-04-05 00:00:00            42.1   \n",
       "..          ...                  ...                  ...             ...   \n",
       "205         205  2016-04-26 00:00:00  2016-04-26 00:00:00            60.1   \n",
       "206         206  2016-04-27 00:00:00  2016-04-27 00:00:00            62.1   \n",
       "207         207  2016-04-28 00:00:00  2016-04-28 00:00:00            57.9   \n",
       "208         208  2016-04-29 00:00:00  2016-04-29 00:00:00            57.0   \n",
       "209         209  2016-04-30 00:00:00  2016-04-30 00:00:00            64.0   \n",
       "\n",
       "     Low Temp (°F) Precipitation  Brooklyn Bridge  Manhattan Bridge  \\\n",
       "0             66.0          0.01           1704.0              3126   \n",
       "1             48.9          0.15            827.0              1646   \n",
       "2             34.0          0.09            526.0              1232   \n",
       "3             33.1          0.47            521.0              1067   \n",
       "4             26.1             0           1416.0              2617   \n",
       "..             ...           ...              ...               ...   \n",
       "205           46.9          0.24           1997.0              3520   \n",
       "206           46.9             0           3343.0              5606   \n",
       "207           48.0             0           2486.0              4152   \n",
       "208           46.9          0.05           2375.0              4178   \n",
       "209           48.0             0           3199.0              4952   \n",
       "\n",
       "     Williamsburg Bridge  Queensboro Bridge  Total  \n",
       "0                 4115.0             2552.0  11497  \n",
       "1                 2565.0             1884.0   6922  \n",
       "2                 1695.0             1306.0   4759  \n",
       "3                 1440.0             1307.0   4335  \n",
       "4                 3081.0             2357.0   9471  \n",
       "..                   ...                ...    ...  \n",
       "205               4559.0             2929.0  13005  \n",
       "206               6577.0             4388.0  19914  \n",
       "207               5336.0             3657.0  15631  \n",
       "208               5053.0             3348.0  14954  \n",
       "209               5675.0             3606.0  17432  \n",
       "\n",
       "[203 rows x 11 columns]"
      ]
     },
     "execution_count": 72,
     "metadata": {},
     "output_type": "execute_result"
    }
   ],
   "source": [
    "df"
   ]
  },
  {
   "cell_type": "code",
   "execution_count": null,
   "metadata": {},
   "outputs": [],
   "source": []
  }
 ],
 "metadata": {
  "kernelspec": {
   "display_name": "Python 3",
   "language": "python",
   "name": "python3"
  },
  "language_info": {
   "codemirror_mode": {
    "name": "ipython",
    "version": 3
   },
   "file_extension": ".py",
   "mimetype": "text/x-python",
   "name": "python",
   "nbconvert_exporter": "python",
   "pygments_lexer": "ipython3",
   "version": "3.7.3"
  }
 },
 "nbformat": 4,
 "nbformat_minor": 2
}
