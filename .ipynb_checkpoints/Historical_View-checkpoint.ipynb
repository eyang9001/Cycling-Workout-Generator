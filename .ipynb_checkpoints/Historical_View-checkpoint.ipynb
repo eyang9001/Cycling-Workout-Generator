{
 "cells": [
  {
   "cell_type": "code",
   "execution_count": 1,
   "metadata": {},
   "outputs": [],
   "source": [
    "from src.parsers import *\n",
    "import numpy as np\n",
    "import pandas as pd"
   ]
  },
  {
   "cell_type": "code",
   "execution_count": null,
   "metadata": {},
   "outputs": [
    {
     "name": "stdout",
     "output_type": "stream",
     "text": [
      "2999463547.xml\n",
      "2489028270.fit\n",
      "2241072143.fit\n",
      "Hunter.fit\n",
      "2218985863.fit\n",
      "2662219217.fit\n",
      "2617416504.fit\n",
      "2679853002.fit\n",
      "3022839632.xml\n",
      "2645319364.fit\n",
      "Mokelumne (1).fit\n",
      "2807673147.fit\n",
      "2687883897.fit\n",
      "Whiteface.fit\n",
      "2993753706.xml\n",
      "2623614122.fit\n",
      "2684500702.fit\n",
      "2271966383.fit\n",
      "Pettit (3).fit\n",
      "Baxter.fit\n",
      "2710577483.fit\n",
      "2586695790.fit\n",
      "3049096264.xml\n",
      "2272011392.fit\n",
      "2320346012.xml\n",
      "2510608433.fit\n",
      "2257960068.xml\n",
      "2448239839.xml\n",
      "2947147218.xml\n",
      "2651681859.fit\n",
      "Palisade.fit\n",
      "Pettit (2).fit\n",
      "2659194024.fit\n",
      ".DS_Store\n",
      "Spencer +2 (1).fit\n",
      "2388646566.fit\n",
      "2272006775.fit\n",
      "2018-11-01T12_24_35.fit\n",
      "Dade +1.fit\n",
      "2266046656.xml\n",
      "Mokelumne.fit\n",
      "2122624673.fit\n",
      "2582243969.fit\n",
      "Antelope +5 (1).fit\n",
      "2870873773.fit\n",
      "Matthes +1.fit\n",
      "2248014145.xml\n",
      "3080241218.xml\n",
      "2269625881.xml\n",
      "2677842538.fit\n",
      "2274087812.xml\n",
      "Richardson +3.fit\n",
      "2632573220.xml\n",
      "2668054468.fit\n",
      "2313831065.xml\n",
      "2729072811.fit\n",
      "Leconte (1).fit\n",
      "2127864905.fit\n",
      "2140543141.fit\n",
      "2387726373.fit\n",
      "2629930638.fit\n",
      "Spanish Needle -3.fit\n",
      "2555883786.xml\n",
      "2797106114.xml\n",
      "Ramp Test.fit\n",
      "3025303182.fit\n",
      "Antelope.fit\n",
      "2968080400.fit\n",
      "2906642693.fit\n",
      "Lamarck (1).fit\n",
      "2522139264.fit\n",
      "2464960135.xml\n",
      "Whiteface (1).fit\n",
      "Mary Austin -1.fit\n",
      "2303133370.xml\n",
      "2786762403.fit\n"
     ]
    }
   ],
   "source": [
    "hrs = []\n",
    "pws = []\n",
    "dates = []\n",
    "for item in os.listdir('data/'):\n",
    "    print(item)\n",
    "    if item.endswith('.xml'):\n",
    "        try:\n",
    "            (hr_data, cad_data, pwr_data, dt) = read_xml_file('data/' + item)\n",
    "            hrs.append(hr_data)\n",
    "            pws.append(pwr_data)\n",
    "            dates.append(dt)\n",
    "        except:\n",
    "            hr_data = []\n",
    "    if item.endswith('.fit'):\n",
    "        try:\n",
    "            (hr_data, cad_data, pwr_data, dt) = parse_fit_file('data/' + item)\n",
    "            hrs.append(hr_data)\n",
    "            pws.append(pwr_data)\n",
    "            dates.append(dt)\n",
    "        except:\n",
    "            hr_data = []"
   ]
  },
  {
   "cell_type": "code",
   "execution_count": 12,
   "metadata": {},
   "outputs": [
    {
     "ename": "AttributeError",
     "evalue": "'NoneType' object has no attribute 'raw_value'",
     "output_type": "error",
     "traceback": [
      "\u001b[0;31m---------------------------------------------------------------------------\u001b[0m",
      "\u001b[0;31mAttributeError\u001b[0m                            Traceback (most recent call last)",
      "\u001b[0;32m<ipython-input-12-4df5c842c007>\u001b[0m in \u001b[0;36m<module>\u001b[0;34m\u001b[0m\n\u001b[0;32m----> 1\u001b[0;31m \u001b[0;34m(\u001b[0m\u001b[0mhr_data\u001b[0m\u001b[0;34m,\u001b[0m \u001b[0mcad_data\u001b[0m\u001b[0;34m,\u001b[0m \u001b[0mpwr_data\u001b[0m\u001b[0;34m,\u001b[0m \u001b[0mdt\u001b[0m\u001b[0;34m)\u001b[0m \u001b[0;34m=\u001b[0m \u001b[0mparse_fit_file\u001b[0m\u001b[0;34m(\u001b[0m\u001b[0;34m'data/2751540892.fit'\u001b[0m\u001b[0;34m)\u001b[0m\u001b[0;34m\u001b[0m\u001b[0;34m\u001b[0m\u001b[0m\n\u001b[0m",
      "\u001b[0;32m~/Documents/MSAI/Spring/Reinforcement/Cycling-Workout-Generator/src/parsers.py\u001b[0m in \u001b[0;36mparse_fit_file\u001b[0;34m(file_path, rename)\u001b[0m\n\u001b[1;32m     14\u001b[0m     \u001b[0mtimes\u001b[0m \u001b[0;34m=\u001b[0m \u001b[0;34m[\u001b[0m\u001b[0;34m]\u001b[0m\u001b[0;34m\u001b[0m\u001b[0;34m\u001b[0m\u001b[0m\n\u001b[1;32m     15\u001b[0m     \u001b[0mstime\u001b[0m \u001b[0;34m=\u001b[0m \u001b[0;32mNone\u001b[0m\u001b[0;34m\u001b[0m\u001b[0;34m\u001b[0m\u001b[0m\n\u001b[0;32m---> 16\u001b[0;31m     \u001b[0;32mtry\u001b[0m\u001b[0;34m:\u001b[0m\u001b[0;34m\u001b[0m\u001b[0;34m\u001b[0m\u001b[0m\n\u001b[0m\u001b[1;32m     17\u001b[0m         \u001b[0;32mfor\u001b[0m \u001b[0mrecord\u001b[0m \u001b[0;32min\u001b[0m \u001b[0mfitfile\u001b[0m\u001b[0;34m.\u001b[0m\u001b[0mget_messages\u001b[0m\u001b[0;34m(\u001b[0m\u001b[0;34m'record'\u001b[0m\u001b[0;34m)\u001b[0m\u001b[0;34m:\u001b[0m\u001b[0;34m\u001b[0m\u001b[0;34m\u001b[0m\u001b[0m\n\u001b[1;32m     18\u001b[0m             \u001b[0mrec_dict\u001b[0m \u001b[0;34m=\u001b[0m \u001b[0mrecord\u001b[0m\u001b[0;34m.\u001b[0m\u001b[0mget_values\u001b[0m\u001b[0;34m(\u001b[0m\u001b[0;34m)\u001b[0m\u001b[0;34m\u001b[0m\u001b[0;34m\u001b[0m\u001b[0m\n",
      "\u001b[0;32m~/.conda/envs/src/lib/python3.7/site-packages/fitparse/base.py\u001b[0m in \u001b[0;36mget_messages\u001b[0;34m(self, name, with_definitions, as_dict)\u001b[0m\n\u001b[1;32m    432\u001b[0m         \u001b[0;31m# If there are unparsed messages, yield those too\u001b[0m\u001b[0;34m\u001b[0m\u001b[0;34m\u001b[0m\u001b[0;34m\u001b[0m\u001b[0m\n\u001b[1;32m    433\u001b[0m         \u001b[0;32mwhile\u001b[0m \u001b[0;32mnot\u001b[0m \u001b[0mself\u001b[0m\u001b[0;34m.\u001b[0m\u001b[0m_complete\u001b[0m\u001b[0;34m:\u001b[0m\u001b[0;34m\u001b[0m\u001b[0;34m\u001b[0m\u001b[0m\n\u001b[0;32m--> 434\u001b[0;31m             \u001b[0mmessage\u001b[0m \u001b[0;34m=\u001b[0m \u001b[0mself\u001b[0m\u001b[0;34m.\u001b[0m\u001b[0m_parse_message\u001b[0m\u001b[0;34m(\u001b[0m\u001b[0;34m)\u001b[0m\u001b[0;34m\u001b[0m\u001b[0;34m\u001b[0m\u001b[0m\n\u001b[0m\u001b[1;32m    435\u001b[0m             \u001b[0;32mif\u001b[0m \u001b[0mmessage\u001b[0m \u001b[0;32mand\u001b[0m \u001b[0mshould_yield\u001b[0m\u001b[0;34m(\u001b[0m\u001b[0mmessage\u001b[0m\u001b[0;34m)\u001b[0m\u001b[0;34m:\u001b[0m\u001b[0;34m\u001b[0m\u001b[0;34m\u001b[0m\u001b[0m\n\u001b[1;32m    436\u001b[0m                 \u001b[0;32myield\u001b[0m \u001b[0mmessage\u001b[0m\u001b[0;34m.\u001b[0m\u001b[0mas_dict\u001b[0m\u001b[0;34m(\u001b[0m\u001b[0;34m)\u001b[0m \u001b[0;32mif\u001b[0m \u001b[0mas_dict\u001b[0m \u001b[0;32melse\u001b[0m \u001b[0mmessage\u001b[0m\u001b[0;34m\u001b[0m\u001b[0;34m\u001b[0m\u001b[0m\n",
      "\u001b[0;32m~/.conda/envs/src/lib/python3.7/site-packages/fitparse/base.py\u001b[0m in \u001b[0;36m_parse_message\u001b[0;34m(self)\u001b[0m\n\u001b[1;32m    154\u001b[0m                     \u001b[0madd_dev_data_id\u001b[0m\u001b[0;34m(\u001b[0m\u001b[0mmessage\u001b[0m\u001b[0;34m)\u001b[0m\u001b[0;34m\u001b[0m\u001b[0;34m\u001b[0m\u001b[0m\n\u001b[1;32m    155\u001b[0m                 \u001b[0;32melif\u001b[0m \u001b[0mmessage\u001b[0m\u001b[0;34m.\u001b[0m\u001b[0mmesg_type\u001b[0m\u001b[0;34m.\u001b[0m\u001b[0mname\u001b[0m \u001b[0;34m==\u001b[0m \u001b[0;34m'field_description'\u001b[0m\u001b[0;34m:\u001b[0m\u001b[0;34m\u001b[0m\u001b[0;34m\u001b[0m\u001b[0m\n\u001b[0;32m--> 156\u001b[0;31m                     \u001b[0madd_dev_field_description\u001b[0m\u001b[0;34m(\u001b[0m\u001b[0mmessage\u001b[0m\u001b[0;34m)\u001b[0m\u001b[0;34m\u001b[0m\u001b[0;34m\u001b[0m\u001b[0m\n\u001b[0m\u001b[1;32m    157\u001b[0m \u001b[0;34m\u001b[0m\u001b[0m\n\u001b[1;32m    158\u001b[0m         \u001b[0mself\u001b[0m\u001b[0;34m.\u001b[0m\u001b[0m_messages\u001b[0m\u001b[0;34m.\u001b[0m\u001b[0mappend\u001b[0m\u001b[0;34m(\u001b[0m\u001b[0mmessage\u001b[0m\u001b[0;34m)\u001b[0m\u001b[0;34m\u001b[0m\u001b[0;34m\u001b[0m\u001b[0m\n",
      "\u001b[0;32m~/.conda/envs/src/lib/python3.7/site-packages/fitparse/records.py\u001b[0m in \u001b[0;36madd_dev_field_description\u001b[0;34m(message)\u001b[0m\n\u001b[1;32m    451\u001b[0m     \u001b[0mbase_type_id\u001b[0m \u001b[0;34m=\u001b[0m \u001b[0mmessage\u001b[0m\u001b[0;34m.\u001b[0m\u001b[0mget\u001b[0m\u001b[0;34m(\u001b[0m\u001b[0;34m'fit_base_type_id'\u001b[0m\u001b[0;34m)\u001b[0m\u001b[0;34m.\u001b[0m\u001b[0mraw_value\u001b[0m\u001b[0;34m\u001b[0m\u001b[0;34m\u001b[0m\u001b[0m\n\u001b[1;32m    452\u001b[0m     \u001b[0mfield_name\u001b[0m \u001b[0;34m=\u001b[0m \u001b[0mmessage\u001b[0m\u001b[0;34m.\u001b[0m\u001b[0mget\u001b[0m\u001b[0;34m(\u001b[0m\u001b[0;34m'field_name'\u001b[0m\u001b[0;34m)\u001b[0m\u001b[0;34m.\u001b[0m\u001b[0mraw_value\u001b[0m\u001b[0;34m\u001b[0m\u001b[0;34m\u001b[0m\u001b[0m\n\u001b[0;32m--> 453\u001b[0;31m     \u001b[0munits\u001b[0m \u001b[0;34m=\u001b[0m \u001b[0mmessage\u001b[0m\u001b[0;34m.\u001b[0m\u001b[0mget\u001b[0m\u001b[0;34m(\u001b[0m\u001b[0;34m'units'\u001b[0m\u001b[0;34m)\u001b[0m\u001b[0;34m.\u001b[0m\u001b[0mraw_value\u001b[0m\u001b[0;34m\u001b[0m\u001b[0;34m\u001b[0m\u001b[0m\n\u001b[0m\u001b[1;32m    454\u001b[0m \u001b[0;34m\u001b[0m\u001b[0m\n\u001b[1;32m    455\u001b[0m     \u001b[0mnative_field_num\u001b[0m \u001b[0;34m=\u001b[0m \u001b[0mmessage\u001b[0m\u001b[0;34m.\u001b[0m\u001b[0mget\u001b[0m\u001b[0;34m(\u001b[0m\u001b[0;34m'native_field_num'\u001b[0m\u001b[0;34m)\u001b[0m\u001b[0;34m\u001b[0m\u001b[0;34m\u001b[0m\u001b[0m\n",
      "\u001b[0;31mAttributeError\u001b[0m: 'NoneType' object has no attribute 'raw_value'"
     ]
    }
   ],
   "source": [
    "(hr_data, cad_data, pwr_data, dt) = parse_fit_file('data/2751540892.fit')"
   ]
  },
  {
   "cell_type": "code",
   "execution_count": null,
   "metadata": {},
   "outputs": [],
   "source": []
  }
 ],
 "metadata": {
  "kernelspec": {
   "display_name": "Python 3",
   "language": "python",
   "name": "python3"
  },
  "language_info": {
   "codemirror_mode": {
    "name": "ipython",
    "version": 3
   },
   "file_extension": ".py",
   "mimetype": "text/x-python",
   "name": "python",
   "nbconvert_exporter": "python",
   "pygments_lexer": "ipython3",
   "version": "3.7.3"
  }
 },
 "nbformat": 4,
 "nbformat_minor": 2
}
