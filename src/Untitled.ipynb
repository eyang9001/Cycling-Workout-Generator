{
 "cells": [
  {
   "cell_type": "code",
   "execution_count": 8,
   "metadata": {},
   "outputs": [],
   "source": [
    "import os\n",
    "import gzip\n",
    "import shutil\n",
    "from fitparse import FitFile\n",
    "import pandas as pd"
   ]
  },
  {
   "cell_type": "code",
   "execution_count": 3,
   "metadata": {},
   "outputs": [],
   "source": [
    "fitfile = FitFile('../raw_data/2784416002.fit')\n",
    "hrs = []\n",
    "pwrs = []\n",
    "cads = []\n",
    "times = []\n",
    "for record in fitfile.get_messages('record'):\n",
    "    rec_dict = record.get_values()\n",
    "    if ('power' in rec_dict) & ('cadence' in rec_dict) & ('heart_rate' in rec_dict):\n",
    "        pwrs.append(rec_dict['power'])\n",
    "        cads.append(rec_dict['cadence'])\n",
    "        hrs.append(rec_dict['heart_rate'])\n",
    "        times.append(rec_dict['timestamp'])"
   ]
  },
  {
   "cell_type": "code",
   "execution_count": 9,
   "metadata": {},
   "outputs": [],
   "source": [
    "df = pd.DataFrame(list(zip(times, hrs, pwrs, cads)), columns=['time', 'hr', 'pwr', 'cad'])"
   ]
  },
  {
   "cell_type": "code",
   "execution_count": 11,
   "metadata": {},
   "outputs": [
    {
     "data": {
      "text/html": [
       "<div>\n",
       "<style scoped>\n",
       "    .dataframe tbody tr th:only-of-type {\n",
       "        vertical-align: middle;\n",
       "    }\n",
       "\n",
       "    .dataframe tbody tr th {\n",
       "        vertical-align: top;\n",
       "    }\n",
       "\n",
       "    .dataframe thead th {\n",
       "        text-align: right;\n",
       "    }\n",
       "</style>\n",
       "<table border=\"1\" class=\"dataframe\">\n",
       "  <thead>\n",
       "    <tr style=\"text-align: right;\">\n",
       "      <th></th>\n",
       "      <th>time</th>\n",
       "      <th>hr</th>\n",
       "      <th>pwr</th>\n",
       "      <th>cad</th>\n",
       "    </tr>\n",
       "  </thead>\n",
       "  <tbody>\n",
       "    <tr>\n",
       "      <th>0</th>\n",
       "      <td>2019-08-16 17:46:18</td>\n",
       "      <td>126</td>\n",
       "      <td>263.0</td>\n",
       "      <td>84</td>\n",
       "    </tr>\n",
       "    <tr>\n",
       "      <th>1</th>\n",
       "      <td>2019-08-16 17:46:19</td>\n",
       "      <td>126</td>\n",
       "      <td>201.0</td>\n",
       "      <td>72</td>\n",
       "    </tr>\n",
       "    <tr>\n",
       "      <th>2</th>\n",
       "      <td>2019-08-16 17:46:20</td>\n",
       "      <td>126</td>\n",
       "      <td>139.0</td>\n",
       "      <td>50</td>\n",
       "    </tr>\n",
       "    <tr>\n",
       "      <th>3</th>\n",
       "      <td>2019-08-16 17:46:21</td>\n",
       "      <td>126</td>\n",
       "      <td>78.0</td>\n",
       "      <td>28</td>\n",
       "    </tr>\n",
       "    <tr>\n",
       "      <th>4</th>\n",
       "      <td>2019-08-16 17:46:22</td>\n",
       "      <td>126</td>\n",
       "      <td>16.0</td>\n",
       "      <td>6</td>\n",
       "    </tr>\n",
       "  </tbody>\n",
       "</table>\n",
       "</div>"
      ],
      "text/plain": [
       "                 time   hr    pwr  cad\n",
       "0 2019-08-16 17:46:18  126  263.0   84\n",
       "1 2019-08-16 17:46:19  126  201.0   72\n",
       "2 2019-08-16 17:46:20  126  139.0   50\n",
       "3 2019-08-16 17:46:21  126   78.0   28\n",
       "4 2019-08-16 17:46:22  126   16.0    6"
      ]
     },
     "execution_count": 11,
     "metadata": {},
     "output_type": "execute_result"
    }
   ],
   "source": [
    "df.head()"
   ]
  },
  {
   "cell_type": "code",
   "execution_count": null,
   "metadata": {},
   "outputs": [],
   "source": []
  }
 ],
 "metadata": {
  "kernelspec": {
   "display_name": "Python 3",
   "language": "python",
   "name": "python3"
  },
  "language_info": {
   "codemirror_mode": {
    "name": "ipython",
    "version": 3
   },
   "file_extension": ".py",
   "mimetype": "text/x-python",
   "name": "python",
   "nbconvert_exporter": "python",
   "pygments_lexer": "ipython3",
   "version": "3.7.3"
  }
 },
 "nbformat": 4,
 "nbformat_minor": 2
}
